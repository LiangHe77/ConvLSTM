{
 "cells": [
  {
   "cell_type": "code",
   "execution_count": 1,
   "metadata": {},
   "outputs": [],
   "source": [
    "import torch\n",
    "import torch.nn as nn\n",
    "import numpy as np\n",
    "from torch.utils.data import Dataset,DataLoader\n",
    "import torchvision.transforms as transforms"
   ]
  },
  {
   "cell_type": "code",
   "execution_count": 2,
   "metadata": {},
   "outputs": [],
   "source": [
    "class MovingMNIST(Dataset):\n",
    "    def __init__(self,path='E:\\数据集\\Moving MNIST\\mnist_test_seq.npy',transforms=None,train=True):\n",
    "        self.path = path\n",
    "        self.content = np.load(self.path)\n",
    "        #self.content = (self.content-np.min(self.content))/(np.max(self.content)-np.min(self.content))\n",
    "        #self.content = np.resize(self.content,(8,7500,1,64,64))\n",
    "        self.content_ = self.content.transpose(1,0,2,3)  #(batch_size,channels,seq_nums,height,width)\n",
    "        self.transforms = transforms\n",
    "        self.train = train\n",
    "        if train:\n",
    "            self.Total = len(self.content_[:8000,:,:,:])\n",
    "        else:\n",
    "            self.Total = len(self.content_[8000:10000,:,:,:])\n",
    "        \n",
    "    def __getitem__(self,index):\n",
    "        if self.train:\n",
    "            self.train_dataset = self.content_[0:8000,:,:,:]\n",
    "            self.sample_ = self.train_dataset[index,...]/255.0\n",
    "            self.sample = torch.from_numpy(np.expand_dims(self.sample_,axis=1)).float()\n",
    "            return self.sample\n",
    "        else:\n",
    "            self.test_dataset = self.content_[8000:10000,:,:,:]\n",
    "            self.sample_ =  self.test_dataset[index,...]/255.0\n",
    "            self.sample = torch.from_numpy(np.expand_dims(self.sample_,axis=1)).float()\n",
    "            return self.sample\n",
    "    def __len__(self):\n",
    "        return self.Total\n"
   ]
  },
  {
   "cell_type": "code",
   "execution_count": 3,
   "metadata": {},
   "outputs": [],
   "source": [
    "transforms = transforms.Compose([\n",
    "    transforms.RandomVerticalFlip(),\n",
    "    transforms.RandomHorizontalFlip()\n",
    "])"
   ]
  },
  {
   "cell_type": "code",
   "execution_count": 4,
   "metadata": {},
   "outputs": [],
   "source": [
    "train_mnistdata = MovingMNIST(train=True)\n",
    "traindata_loader = DataLoader(dataset=train_mnistdata,batch_size=2,shuffle=True)\n",
    "test_mnistdata = MovingMNIST(train=False)\n",
    "testdata_loader = DataLoader(dataset=test_mnistdata,batch_size=1,shuffle=False)"
   ]
  },
  {
   "cell_type": "code",
   "execution_count": 5,
   "metadata": {},
   "outputs": [
    {
     "name": "stdout",
     "output_type": "stream",
     "text": [
      "torch.Size([2, 20, 1, 64, 64])\n"
     ]
    }
   ],
   "source": [
    "for data in traindata_loader:\n",
    "    print(data.shape)  #[2, 20, 1, 64, 64]\n",
    "    break"
   ]
  },
  {
   "cell_type": "code",
   "execution_count": null,
   "metadata": {},
   "outputs": [],
   "source": []
  }
 ],
 "metadata": {
  "kernelspec": {
   "display_name": "Python 3",
   "language": "python",
   "name": "python3"
  },
  "language_info": {
   "codemirror_mode": {
    "name": "ipython",
    "version": 3
   },
   "file_extension": ".py",
   "mimetype": "text/x-python",
   "name": "python",
   "nbconvert_exporter": "python",
   "pygments_lexer": "ipython3",
   "version": "3.7.3"
  },
  "toc": {
   "base_numbering": 1,
   "nav_menu": {},
   "number_sections": true,
   "sideBar": true,
   "skip_h1_title": false,
   "title_cell": "Table of Contents",
   "title_sidebar": "Contents",
   "toc_cell": false,
   "toc_position": {},
   "toc_section_display": true,
   "toc_window_display": false
  }
 },
 "nbformat": 4,
 "nbformat_minor": 2
}
